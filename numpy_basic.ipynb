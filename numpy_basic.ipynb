{
 "cells": [
  {
   "cell_type": "markdown",
   "id": "41b46c9f-2622-454f-8283-06d6d1a9992c",
   "metadata": {},
   "source": [
    "Consider the below code to answer further questions:"
   ]
  },
  {
   "cell_type": "code",
   "execution_count": 2,
   "id": "1c5ac54d-2209-4c67-8ba5-fd5cd93a9482",
   "metadata": {},
   "outputs": [],
   "source": [
    "import numpy as np\n",
    "list_ = [ '1' , '2' , '3' , '4' , '5' ]\n",
    "array_list = np.array(object = list_)"
   ]
  },
  {
   "cell_type": "code",
   "execution_count": 5,
   "id": "6aa83bec-8551-40c9-a89c-f6ed2a891eff",
   "metadata": {},
   "outputs": [
    {
     "data": {
      "text/plain": [
       "numpy.ndarray"
      ]
     },
     "execution_count": 5,
     "metadata": {},
     "output_type": "execute_result"
    }
   ],
   "source": [
    "type(array_list)"
   ]
  },
  {
   "cell_type": "code",
   "execution_count": 6,
   "id": "8319ad69-1580-47de-bcf3-213434b94c2a",
   "metadata": {},
   "outputs": [
    {
     "data": {
      "text/plain": [
       "dtype('<U1')"
      ]
     },
     "execution_count": 6,
     "metadata": {},
     "output_type": "execute_result"
    }
   ],
   "source": [
    "array_list.dtype"
   ]
  },
  {
   "cell_type": "code",
   "execution_count": 4,
   "id": "14de6624-5eac-4a4e-b7cf-663326fa4a12",
   "metadata": {},
   "outputs": [
    {
     "data": {
      "text/plain": [
       "list"
      ]
     },
     "execution_count": 4,
     "metadata": {},
     "output_type": "execute_result"
    }
   ],
   "source": [
    "type(list_)"
   ]
  },
  {
   "cell_type": "markdown",
   "id": "ee9c49f2-7065-4c90-8337-5a5efa747330",
   "metadata": {},
   "source": [
    "Q1. Is there any difference in the data type of variables list_ and array_list? If there is then write a code\n",
    "to print the data types of both the variables.\n",
    "\n",
    "Ans- "
   ]
  },
  {
   "cell_type": "markdown",
   "id": "2af25e5d-919a-44b1-afd3-099f00fea7d5",
   "metadata": {},
   "source": [
    "list_ - it is python list of strings\n",
    "\n",
    "array_list  - it is numpy array which has its own data types"
   ]
  },
  {
   "cell_type": "markdown",
   "id": "afe6bdef-7877-43fc-b45a-e60eaf704329",
   "metadata": {},
   "source": [
    "Q2. Write a code to print the data type of each and every element of both the variables list_ and\n",
    "arra_list.\n",
    "\n",
    "Ans - "
   ]
  },
  {
   "cell_type": "code",
   "execution_count": 7,
   "id": "a9d02182-be04-4cf8-8848-936475fdc58d",
   "metadata": {},
   "outputs": [
    {
     "name": "stdout",
     "output_type": "stream",
     "text": [
      "<class 'str'>\n",
      "<class 'str'>\n",
      "<class 'str'>\n",
      "<class 'str'>\n",
      "<class 'str'>\n"
     ]
    }
   ],
   "source": [
    "#for list_\n",
    "\n",
    "for i in list_:\n",
    "    print(type(i))"
   ]
  },
  {
   "cell_type": "code",
   "execution_count": 8,
   "id": "d228b5f4-ef42-4163-b8f1-8c530aaa4ac2",
   "metadata": {},
   "outputs": [
    {
     "name": "stdout",
     "output_type": "stream",
     "text": [
      "<class 'numpy.str_'>\n",
      "<class 'numpy.str_'>\n",
      "<class 'numpy.str_'>\n",
      "<class 'numpy.str_'>\n",
      "<class 'numpy.str_'>\n"
     ]
    }
   ],
   "source": [
    "# for array_list\n",
    "\n",
    "for i in array_list:\n",
    "    print(type(i))"
   ]
  },
  {
   "cell_type": "markdown",
   "id": "e05578dc-74ff-482f-a22f-29fe5be6dc54",
   "metadata": {},
   "source": [
    "Q3. Considering the following changes in the variable, array_list:|\n",
    "\n",
    "Ans - "
   ]
  },
  {
   "cell_type": "code",
   "execution_count": 9,
   "id": "5cb00e6d-3194-4a9f-a691-560cc6099f60",
   "metadata": {},
   "outputs": [],
   "source": [
    "array_list = np.array(object = list_, dtype = int)"
   ]
  },
  {
   "cell_type": "markdown",
   "id": "b6fb14d3-21f1-4844-819a-df828eb79abc",
   "metadata": {},
   "source": [
    "Will there be any difference in the data type of the elements present in both the variables, list_ and\n",
    "arra_list? If so then print the data types of each and every element present in both the variables, list_\n",
    "and arra_list.\n",
    "\n",
    "Ans - yes there will be differnce in the data type of the elements. Data type of \" list_ \" is str while the data type of element in \" array_list \" is numpy.int64 after the conversion "
   ]
  },
  {
   "cell_type": "code",
   "execution_count": 10,
   "id": "e4bcb42c-6fa4-43d9-9675-6e9d9e45ecde",
   "metadata": {},
   "outputs": [
    {
     "name": "stdout",
     "output_type": "stream",
     "text": [
      "<class 'str'>\n",
      "<class 'str'>\n",
      "<class 'str'>\n",
      "<class 'str'>\n",
      "<class 'str'>\n"
     ]
    }
   ],
   "source": [
    "# data types of elements in list_\n",
    "for i in list_:\n",
    "    print(type(i))"
   ]
  },
  {
   "cell_type": "code",
   "execution_count": 12,
   "id": "7c791368-fee3-4fe4-bbe2-8e762a8ee65f",
   "metadata": {},
   "outputs": [
    {
     "name": "stdout",
     "output_type": "stream",
     "text": [
      "<class 'numpy.int64'>\n",
      "<class 'numpy.int64'>\n",
      "<class 'numpy.int64'>\n",
      "<class 'numpy.int64'>\n",
      "<class 'numpy.int64'>\n"
     ]
    }
   ],
   "source": [
    "# data type of element in array_list after conversion\n",
    "for i in array_list:\n",
    "    print(type(i))"
   ]
  },
  {
   "cell_type": "markdown",
   "id": "8f3215ef-62f3-4af9-a477-b50377d82cfe",
   "metadata": {},
   "source": [
    "Consider the below code to answer further questions:"
   ]
  },
  {
   "cell_type": "code",
   "execution_count": 13,
   "id": "3f035bcc-3490-4b30-966f-c6bc39c34586",
   "metadata": {},
   "outputs": [],
   "source": [
    "import numpy as np\n",
    "num_list = [ [ 1 , 2 , 3 ] , [ 4 , 5 , 6 ] ]\n",
    "num_array = np.array(object = num_list)"
   ]
  },
  {
   "cell_type": "markdown",
   "id": "7520dcb5-1d1d-4528-83e7-3237b58edc68",
   "metadata": {},
   "source": [
    "Q4. Write a code to find the following characteristics of variable, num_array:\n",
    "\n",
    "\n",
    "(i) shape\n",
    "\n",
    "\n",
    "(ii) size"
   ]
  },
  {
   "cell_type": "code",
   "execution_count": 15,
   "id": "076a69e1-7a02-432a-934c-9b6f68156439",
   "metadata": {},
   "outputs": [
    {
     "name": "stdout",
     "output_type": "stream",
     "text": [
      "shape of num_array :  (2, 3)\n"
     ]
    }
   ],
   "source": [
    "# shape\n",
    "\n",
    "shape  = num_array.shape\n",
    "\n",
    "print(\"shape of num_array : \" ,shape)"
   ]
  },
  {
   "cell_type": "code",
   "execution_count": 16,
   "id": "ff550c82-2447-40aa-9d83-483798abb2cf",
   "metadata": {},
   "outputs": [
    {
     "name": "stdout",
     "output_type": "stream",
     "text": [
      "size of num_array :  6\n"
     ]
    }
   ],
   "source": [
    "#size\n",
    "\n",
    "size = num_array.size\n",
    "\n",
    "print(\"size of num_array : \",size)"
   ]
  },
  {
   "cell_type": "markdown",
   "id": "40c31003-4d15-4822-aa2a-6926d972c413",
   "metadata": {},
   "source": [
    "Q5. Write a code to create numpy array of 3*3 matrix containing zeros only, using a numpy array\n",
    "creation function.\n",
    "[Hint: The size of the array will be 9 and the shape will be (3,3).]\n",
    "\n",
    "Ans - "
   ]
  },
  {
   "cell_type": "code",
   "execution_count": 18,
   "id": "4708eaa4-c34c-454c-bd80-89eca5bd6aee",
   "metadata": {},
   "outputs": [
    {
     "data": {
      "text/plain": [
       "array([[0., 0., 0.],\n",
       "       [0., 0., 0.],\n",
       "       [0., 0., 0.]])"
      ]
     },
     "execution_count": 18,
     "metadata": {},
     "output_type": "execute_result"
    }
   ],
   "source": [
    "np.zeros((3,3))"
   ]
  },
  {
   "cell_type": "markdown",
   "id": "62c80b05-c708-49fa-b734-cb987db68a9b",
   "metadata": {},
   "source": [
    "Q6. Create an identity matrix of shape (5,5) using numpy functions?\n",
    "[Hint: An identity matrix is a matrix containing 1 diagonally and other elements will be 0.]\n",
    "\n",
    "Ans - "
   ]
  },
  {
   "cell_type": "code",
   "execution_count": 19,
   "id": "e7dd6025-30d5-42d9-968c-0939786dd310",
   "metadata": {},
   "outputs": [
    {
     "data": {
      "text/plain": [
       "array([[1., 0., 0., 0., 0.],\n",
       "       [0., 1., 0., 0., 0.],\n",
       "       [0., 0., 1., 0., 0.],\n",
       "       [0., 0., 0., 1., 0.],\n",
       "       [0., 0., 0., 0., 1.]])"
      ]
     },
     "execution_count": 19,
     "metadata": {},
     "output_type": "execute_result"
    }
   ],
   "source": [
    "np.identity(5)"
   ]
  },
  {
   "cell_type": "code",
   "execution_count": null,
   "id": "e3aae2ea-110b-4968-8e89-3fccee6ec47b",
   "metadata": {},
   "outputs": [],
   "source": []
  }
 ],
 "metadata": {
  "kernelspec": {
   "display_name": "Python 3 (ipykernel)",
   "language": "python",
   "name": "python3"
  },
  "language_info": {
   "codemirror_mode": {
    "name": "ipython",
    "version": 3
   },
   "file_extension": ".py",
   "mimetype": "text/x-python",
   "name": "python",
   "nbconvert_exporter": "python",
   "pygments_lexer": "ipython3",
   "version": "3.10.8"
  }
 },
 "nbformat": 4,
 "nbformat_minor": 5
}
